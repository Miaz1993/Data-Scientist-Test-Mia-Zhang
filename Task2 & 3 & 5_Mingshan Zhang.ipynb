{
 "cells": [
  {
   "cell_type": "code",
   "execution_count": 2,
   "metadata": {},
   "outputs": [],
   "source": [
    "import pandas as pd\n",
    "import numpy as np\n",
    "import dash_core_components as dcc\n",
    "import dash\n",
    "import dash_html_components as html"
   ]
  },
  {
   "cell_type": "markdown",
   "metadata": {},
   "source": [
    "#### data cleaning"
   ]
  },
  {
   "cell_type": "code",
   "execution_count": 3,
   "metadata": {},
   "outputs": [
    {
     "data": {
      "text/html": [
       "<div>\n",
       "<style scoped>\n",
       "    .dataframe tbody tr th:only-of-type {\n",
       "        vertical-align: middle;\n",
       "    }\n",
       "\n",
       "    .dataframe tbody tr th {\n",
       "        vertical-align: top;\n",
       "    }\n",
       "\n",
       "    .dataframe thead th {\n",
       "        text-align: right;\n",
       "    }\n",
       "</style>\n",
       "<table border=\"1\" class=\"dataframe\">\n",
       "  <thead>\n",
       "    <tr style=\"text-align: right;\">\n",
       "      <th></th>\n",
       "      <th>Date</th>\n",
       "      <th>Date.1</th>\n",
       "      <th>Platform</th>\n",
       "      <th>Country</th>\n",
       "      <th>TRU</th>\n",
       "      <th>DAU</th>\n",
       "      <th>Items</th>\n",
       "      <th>Trans</th>\n",
       "      <th>Items Per Trans</th>\n",
       "      <th>Items per DAU</th>\n",
       "      <th>Conversion</th>\n",
       "      <th>Cash Flow</th>\n",
       "      <th>Return Customer</th>\n",
       "      <th>Time Spend Per Day(seconds)</th>\n",
       "    </tr>\n",
       "  </thead>\n",
       "  <tbody>\n",
       "    <tr>\n",
       "      <th>0</th>\n",
       "      <td>2018-03-15</td>\n",
       "      <td>2018-03-15</td>\n",
       "      <td>Android(All)</td>\n",
       "      <td>Kazakhstan(哈萨克斯坦)</td>\n",
       "      <td>628852.81</td>\n",
       "      <td>15498.31</td>\n",
       "      <td>43429.11</td>\n",
       "      <td>3428.09</td>\n",
       "      <td>17.58</td>\n",
       "      <td>1.3</td>\n",
       "      <td>2.3</td>\n",
       "      <td>4527.01</td>\n",
       "      <td>79.12</td>\n",
       "      <td>58.18</td>\n",
       "    </tr>\n",
       "    <tr>\n",
       "      <th>1</th>\n",
       "      <td>2018-03-15</td>\n",
       "      <td>2018-03-15</td>\n",
       "      <td>ALL</td>\n",
       "      <td>United States(美国)</td>\n",
       "      <td>633293.54</td>\n",
       "      <td>19939.05</td>\n",
       "      <td>43429.11</td>\n",
       "      <td>3428.09</td>\n",
       "      <td>17.58</td>\n",
       "      <td>1.3</td>\n",
       "      <td>2.3</td>\n",
       "      <td>4527.01</td>\n",
       "      <td>75.65</td>\n",
       "      <td>58.87</td>\n",
       "    </tr>\n",
       "    <tr>\n",
       "      <th>2</th>\n",
       "      <td>2018-03-15</td>\n",
       "      <td>2018-03-15</td>\n",
       "      <td>Android(All)</td>\n",
       "      <td>Kazakhstan(哈萨克斯坦)</td>\n",
       "      <td>628852.81</td>\n",
       "      <td>15498.31</td>\n",
       "      <td>43429.11</td>\n",
       "      <td>3428.09</td>\n",
       "      <td>17.58</td>\n",
       "      <td>1.3</td>\n",
       "      <td>2.3</td>\n",
       "      <td>4527.01</td>\n",
       "      <td>79.12</td>\n",
       "      <td>58.18</td>\n",
       "    </tr>\n",
       "    <tr>\n",
       "      <th>3</th>\n",
       "      <td>2018-03-15</td>\n",
       "      <td>2018-03-15</td>\n",
       "      <td>ALL</td>\n",
       "      <td>Guatemala(危地马拉)</td>\n",
       "      <td>628976.03</td>\n",
       "      <td>15621.54</td>\n",
       "      <td>43429.11</td>\n",
       "      <td>3428.09</td>\n",
       "      <td>17.58</td>\n",
       "      <td>1.3</td>\n",
       "      <td>2.3</td>\n",
       "      <td>4527.01</td>\n",
       "      <td>74.62</td>\n",
       "      <td>46.21</td>\n",
       "    </tr>\n",
       "    <tr>\n",
       "      <th>4</th>\n",
       "      <td>2018-03-15</td>\n",
       "      <td>2018-03-15</td>\n",
       "      <td>Android(All)</td>\n",
       "      <td>Belarus(白俄罗斯)</td>\n",
       "      <td>629154.54</td>\n",
       "      <td>15800.04</td>\n",
       "      <td>43429.11</td>\n",
       "      <td>3428.09</td>\n",
       "      <td>17.58</td>\n",
       "      <td>1.3</td>\n",
       "      <td>2.3</td>\n",
       "      <td>4527.01</td>\n",
       "      <td>76.97</td>\n",
       "      <td>56.92</td>\n",
       "    </tr>\n",
       "  </tbody>\n",
       "</table>\n",
       "</div>"
      ],
      "text/plain": [
       "         Date      Date.1      Platform            Country        TRU  \\\n",
       "0  2018-03-15  2018-03-15  Android(All)  Kazakhstan(哈萨克斯坦)  628852.81   \n",
       "1  2018-03-15  2018-03-15           ALL  United States(美国)  633293.54   \n",
       "2  2018-03-15  2018-03-15  Android(All)  Kazakhstan(哈萨克斯坦)  628852.81   \n",
       "3  2018-03-15  2018-03-15           ALL    Guatemala(危地马拉)  628976.03   \n",
       "4  2018-03-15  2018-03-15  Android(All)      Belarus(白俄罗斯)  629154.54   \n",
       "\n",
       "        DAU     Items    Trans  Items Per Trans  Items per DAU  Conversion  \\\n",
       "0  15498.31  43429.11  3428.09            17.58            1.3         2.3   \n",
       "1  19939.05  43429.11  3428.09            17.58            1.3         2.3   \n",
       "2  15498.31  43429.11  3428.09            17.58            1.3         2.3   \n",
       "3  15621.54  43429.11  3428.09            17.58            1.3         2.3   \n",
       "4  15800.04  43429.11  3428.09            17.58            1.3         2.3   \n",
       "\n",
       "   Cash Flow  Return Customer  Time Spend Per Day(seconds)  \n",
       "0    4527.01            79.12                        58.18  \n",
       "1    4527.01            75.65                        58.87  \n",
       "2    4527.01            79.12                        58.18  \n",
       "3    4527.01            74.62                        46.21  \n",
       "4    4527.01            76.97                        56.92  "
      ]
     },
     "execution_count": 3,
     "metadata": {},
     "output_type": "execute_result"
    }
   ],
   "source": [
    "df = pd.read_csv(\"topline_metrics.csv\")\n",
    "df.head()"
   ]
  },
  {
   "cell_type": "code",
   "execution_count": 4,
   "metadata": {},
   "outputs": [],
   "source": [
    "# Remove df['Date.1'], because it is same as df['Date']\n",
    "del df['Date.1']"
   ]
  },
  {
   "cell_type": "code",
   "execution_count": 5,
   "metadata": {},
   "outputs": [],
   "source": [
    "# set datetime\n",
    "df['Date'] = pd.to_datetime(df['Date'])"
   ]
  },
  {
   "cell_type": "code",
   "execution_count": 6,
   "metadata": {},
   "outputs": [],
   "source": [
    "# Get the unique rows in a DataFrame\n",
    "df = df.drop_duplicates()"
   ]
  },
  {
   "cell_type": "code",
   "execution_count": 7,
   "metadata": {},
   "outputs": [],
   "source": [
    "#Convert Country in Chinese in case we need in the future\n",
    "df['Country_Chinese'] = [x.split('(')[1][:-1] if len(x.split('('))>1 else x for x in df['Country'] ]"
   ]
  },
  {
   "cell_type": "code",
   "execution_count": 8,
   "metadata": {},
   "outputs": [],
   "source": [
    "# convert df['Country'] in english\n",
    "import re \n",
    "\n",
    "df['Country'] = df['Country'].apply(lambda x: re.sub(r'\\(.*?\\)', '', x))\n",
    "# set(df.Country.values)\n",
    "# see is there any chinese character, if there is then we convert them in english;\n",
    "# there are a few country only contain chinese characters, therefore we create a dictionary to translate them back to english\n",
    "mapping_dic = {'厄立特里亚':'Eritrea',\n",
    "               '图瓦卢':'Tuvalu',\n",
    "               '圣卢西亚':'Saint Lucia',\n",
    "               '圣巴泰勒米':'Saint Barths',\n",
    "               '基里巴斯':'Kiribati',\n",
    "               '托克劳':'Tokelau',\n",
    "               '朝鲜':'North Korea',\n",
    "               '根西岛':'Guernsey',\n",
    "               '瓦利斯和富图纳':'Wallis et Futuna',\n",
    "               '瓦努阿图':'Vanuatu',\n",
    "               '福克兰群岛':'Falkland Islands',\n",
    "               '科摩罗':'Comores',\n",
    "               '美属萨摩亚':'American Samoa',\n",
    "               '萨摩亚':'Samoa',\n",
    "               '蒙塞拉特岛':'Montserrat',\n",
    "               '诺福克岛':'Norfolk Island',\n",
    "               '马约特':'Mayotte',\n",
    "               '英属印度洋领地':'British Indian Ocean Territory',\n",
    "               '英属维尔京群岛':'British Virgin Islands'\n",
    "                }\n",
    "df['Country_English'] = [x if x not in mapping_dic else mapping_dic[x] for x in df['Country']]"
   ]
  },
  {
   "cell_type": "code",
   "execution_count": 9,
   "metadata": {},
   "outputs": [],
   "source": [
    "#del useless features\n",
    "del df['Country']"
   ]
  },
  {
   "cell_type": "markdown",
   "metadata": {},
   "source": [
    "## Task2 \n",
    "Use Anomaly Detection methodologies to detect anomaly from the attached data. "
   ]
  },
  {
   "cell_type": "code",
   "execution_count": 10,
   "metadata": {},
   "outputs": [],
   "source": [
    "## only include numerical features in dataset\n",
    "detectOutlier = df[df.columns.tolist()[0:-2]]"
   ]
  },
  {
   "cell_type": "code",
   "execution_count": 11,
   "metadata": {},
   "outputs": [
    {
     "data": {
      "text/html": [
       "<div>\n",
       "<style scoped>\n",
       "    .dataframe tbody tr th:only-of-type {\n",
       "        vertical-align: middle;\n",
       "    }\n",
       "\n",
       "    .dataframe tbody tr th {\n",
       "        vertical-align: top;\n",
       "    }\n",
       "\n",
       "    .dataframe thead th {\n",
       "        text-align: right;\n",
       "    }\n",
       "</style>\n",
       "<table border=\"1\" class=\"dataframe\">\n",
       "  <thead>\n",
       "    <tr style=\"text-align: right;\">\n",
       "      <th></th>\n",
       "      <th>Date</th>\n",
       "      <th>Platform</th>\n",
       "      <th>TRU</th>\n",
       "      <th>DAU</th>\n",
       "      <th>Items</th>\n",
       "      <th>Trans</th>\n",
       "      <th>Items Per Trans</th>\n",
       "      <th>Items per DAU</th>\n",
       "      <th>Conversion</th>\n",
       "      <th>Cash Flow</th>\n",
       "      <th>Return Customer</th>\n",
       "      <th>Time Spend Per Day(seconds)</th>\n",
       "    </tr>\n",
       "  </thead>\n",
       "  <tbody>\n",
       "    <tr>\n",
       "      <th>0</th>\n",
       "      <td>2018-03-15</td>\n",
       "      <td>Android(All)</td>\n",
       "      <td>628852.81</td>\n",
       "      <td>15498.31</td>\n",
       "      <td>43429.11</td>\n",
       "      <td>3428.09</td>\n",
       "      <td>17.58</td>\n",
       "      <td>1.3</td>\n",
       "      <td>2.3</td>\n",
       "      <td>4527.01</td>\n",
       "      <td>79.12</td>\n",
       "      <td>58.18</td>\n",
       "    </tr>\n",
       "    <tr>\n",
       "      <th>1</th>\n",
       "      <td>2018-03-15</td>\n",
       "      <td>ALL</td>\n",
       "      <td>633293.54</td>\n",
       "      <td>19939.05</td>\n",
       "      <td>43429.11</td>\n",
       "      <td>3428.09</td>\n",
       "      <td>17.58</td>\n",
       "      <td>1.3</td>\n",
       "      <td>2.3</td>\n",
       "      <td>4527.01</td>\n",
       "      <td>75.65</td>\n",
       "      <td>58.87</td>\n",
       "    </tr>\n",
       "    <tr>\n",
       "      <th>3</th>\n",
       "      <td>2018-03-15</td>\n",
       "      <td>ALL</td>\n",
       "      <td>628976.03</td>\n",
       "      <td>15621.54</td>\n",
       "      <td>43429.11</td>\n",
       "      <td>3428.09</td>\n",
       "      <td>17.58</td>\n",
       "      <td>1.3</td>\n",
       "      <td>2.3</td>\n",
       "      <td>4527.01</td>\n",
       "      <td>74.62</td>\n",
       "      <td>46.21</td>\n",
       "    </tr>\n",
       "    <tr>\n",
       "      <th>4</th>\n",
       "      <td>2018-03-15</td>\n",
       "      <td>Android(All)</td>\n",
       "      <td>629154.54</td>\n",
       "      <td>15800.04</td>\n",
       "      <td>43429.11</td>\n",
       "      <td>3428.09</td>\n",
       "      <td>17.58</td>\n",
       "      <td>1.3</td>\n",
       "      <td>2.3</td>\n",
       "      <td>4527.01</td>\n",
       "      <td>76.97</td>\n",
       "      <td>56.92</td>\n",
       "    </tr>\n",
       "    <tr>\n",
       "      <th>5</th>\n",
       "      <td>2018-03-15</td>\n",
       "      <td>Android(All)</td>\n",
       "      <td>628648.96</td>\n",
       "      <td>15294.47</td>\n",
       "      <td>43429.11</td>\n",
       "      <td>3428.09</td>\n",
       "      <td>17.58</td>\n",
       "      <td>1.3</td>\n",
       "      <td>2.3</td>\n",
       "      <td>4527.01</td>\n",
       "      <td>127.37</td>\n",
       "      <td>101.95</td>\n",
       "    </tr>\n",
       "  </tbody>\n",
       "</table>\n",
       "</div>"
      ],
      "text/plain": [
       "        Date      Platform        TRU       DAU     Items    Trans  \\\n",
       "0 2018-03-15  Android(All)  628852.81  15498.31  43429.11  3428.09   \n",
       "1 2018-03-15           ALL  633293.54  19939.05  43429.11  3428.09   \n",
       "3 2018-03-15           ALL  628976.03  15621.54  43429.11  3428.09   \n",
       "4 2018-03-15  Android(All)  629154.54  15800.04  43429.11  3428.09   \n",
       "5 2018-03-15  Android(All)  628648.96  15294.47  43429.11  3428.09   \n",
       "\n",
       "   Items Per Trans  Items per DAU  Conversion  Cash Flow  Return Customer  \\\n",
       "0            17.58            1.3         2.3    4527.01            79.12   \n",
       "1            17.58            1.3         2.3    4527.01            75.65   \n",
       "3            17.58            1.3         2.3    4527.01            74.62   \n",
       "4            17.58            1.3         2.3    4527.01            76.97   \n",
       "5            17.58            1.3         2.3    4527.01           127.37   \n",
       "\n",
       "   Time Spend Per Day(seconds)  \n",
       "0                        58.18  \n",
       "1                        58.87  \n",
       "3                        46.21  \n",
       "4                        56.92  \n",
       "5                       101.95  "
      ]
     },
     "execution_count": 11,
     "metadata": {},
     "output_type": "execute_result"
    }
   ],
   "source": [
    "detectOutlier.head()"
   ]
  },
  {
   "cell_type": "markdown",
   "metadata": {},
   "source": [
    "#### First we will do some EDA base on the dataset\n",
    "See how data are distributed"
   ]
  },
  {
   "cell_type": "code",
   "execution_count": 12,
   "metadata": {},
   "outputs": [
    {
     "data": {
      "image/png": "[encoded data removed]",
      "text/plain": [
       "<Figure size 864x8064 with 10 Axes>"
      ]
     },
     "metadata": {
      "needs_background": "light"
     },
     "output_type": "display_data"
    }
   ],
   "source": [
    "#box plot\n",
    "#explore all feature distribution\n",
    "import seaborn as sns\n",
    "import matplotlib.gridspec as gridspec\n",
    "import matplotlib.pyplot as plt\n",
    "\n",
    "plt.figure(figsize=(12,28*4))\n",
    "gs = gridspec.GridSpec(30, 2)\n",
    "for i, cn in enumerate(detectOutlier.iloc[:,2:]):\n",
    "    ax = plt.subplot(gs[i])\n",
    "    sns.boxplot(detectOutlier[cn], orient=\"h\", palette=\"Set2\")\n",
    "    ax.set_xlabel('')\n",
    "    ax.set_title('feature: ' + str(cn))\n",
    "plt.show()"
   ]
  },
  {
   "cell_type": "code",
   "execution_count": 12,
   "metadata": {},
   "outputs": [
    {
     "name": "stdout",
     "output_type": "stream",
     "text": [
      "0\n"
     ]
    }
   ],
   "source": [
    "#Check feature integrety\n",
    "\n",
    "#daily active user must less than total active user\n",
    "print(sum(detectOutlier['DAU']/detectOutlier['TRU']>1))"
   ]
  },
  {
   "cell_type": "code",
   "execution_count": 13,
   "metadata": {},
   "outputs": [
    {
     "data": {
      "image/png": "[encoded data removed]",
      "text/plain": [
       "<Figure size 432x288 with 2 Axes>"
      ]
     },
     "metadata": {
      "needs_background": "light"
     },
     "output_type": "display_data"
    }
   ],
   "source": [
    "#Item per transaction from data\n",
    "plt.subplot(1, 2, 1)\n",
    "sns.boxplot(detectOutlier['Items Per Trans'])\n",
    "plt.title('Item per transaction from data')\n",
    "#item per transcation by calculation\n",
    "plt.subplot(1, 2, 2)\n",
    "sns.boxplot(detectOutlier['Items']/detectOutlier['Trans'])\n",
    "plt.title('item per transcation by calculation')\n",
    "plt.tight_layout()"
   ]
  },
  {
   "cell_type": "code",
   "execution_count": 14,
   "metadata": {},
   "outputs": [
    {
     "data": {
      "image/png": "[encoded data removed]",
      "text/plain": [
       "<Figure size 432x288 with 2 Axes>"
      ]
     },
     "metadata": {
      "needs_background": "light"
     },
     "output_type": "display_data"
    }
   ],
   "source": [
    "## Item per transaction from data\n",
    "plt.subplot(1, 2, 1)\n",
    "sns.boxplot(detectOutlier['Items per DAU'])\n",
    "plt.title('Items per DAU from data')\n",
    "#item per transcation by calculation\n",
    "plt.subplot(1, 2, 2)\n",
    "sns.boxplot(detectOutlier['Items']/detectOutlier['DAU'])\n",
    "plt.title('item per DAU by calculation')\n",
    "plt.tight_layout()"
   ]
  },
  {
   "cell_type": "markdown",
   "metadata": {},
   "source": [
    "#### Feature Engineering"
   ]
  },
  {
   "cell_type": "code",
   "execution_count": 15,
   "metadata": {},
   "outputs": [
    {
     "data": {
      "text/html": [
       "<div>\n",
       "<style scoped>\n",
       "    .dataframe tbody tr th:only-of-type {\n",
       "        vertical-align: middle;\n",
       "    }\n",
       "\n",
       "    .dataframe tbody tr th {\n",
       "        vertical-align: top;\n",
       "    }\n",
       "\n",
       "    .dataframe thead th {\n",
       "        text-align: right;\n",
       "    }\n",
       "</style>\n",
       "<table border=\"1\" class=\"dataframe\">\n",
       "  <thead>\n",
       "    <tr style=\"text-align: right;\">\n",
       "      <th></th>\n",
       "      <th>Date</th>\n",
       "      <th>Platform</th>\n",
       "      <th>TRU</th>\n",
       "      <th>DAU</th>\n",
       "      <th>Items</th>\n",
       "      <th>Trans</th>\n",
       "      <th>Items Per Trans</th>\n",
       "      <th>Items per DAU</th>\n",
       "      <th>Conversion</th>\n",
       "      <th>Cash Flow</th>\n",
       "      <th>Return Customer</th>\n",
       "      <th>Time Spend Per Day(seconds)</th>\n",
       "    </tr>\n",
       "  </thead>\n",
       "  <tbody>\n",
       "    <tr>\n",
       "      <th>0</th>\n",
       "      <td>2018-03-15</td>\n",
       "      <td>Android(All)</td>\n",
       "      <td>628852.81</td>\n",
       "      <td>15498.31</td>\n",
       "      <td>43429.11</td>\n",
       "      <td>3428.09</td>\n",
       "      <td>17.58</td>\n",
       "      <td>1.3</td>\n",
       "      <td>2.3</td>\n",
       "      <td>4527.01</td>\n",
       "      <td>79.12</td>\n",
       "      <td>58.18</td>\n",
       "    </tr>\n",
       "    <tr>\n",
       "      <th>1</th>\n",
       "      <td>2018-03-15</td>\n",
       "      <td>ALL</td>\n",
       "      <td>633293.54</td>\n",
       "      <td>19939.05</td>\n",
       "      <td>43429.11</td>\n",
       "      <td>3428.09</td>\n",
       "      <td>17.58</td>\n",
       "      <td>1.3</td>\n",
       "      <td>2.3</td>\n",
       "      <td>4527.01</td>\n",
       "      <td>75.65</td>\n",
       "      <td>58.87</td>\n",
       "    </tr>\n",
       "    <tr>\n",
       "      <th>3</th>\n",
       "      <td>2018-03-15</td>\n",
       "      <td>ALL</td>\n",
       "      <td>628976.03</td>\n",
       "      <td>15621.54</td>\n",
       "      <td>43429.11</td>\n",
       "      <td>3428.09</td>\n",
       "      <td>17.58</td>\n",
       "      <td>1.3</td>\n",
       "      <td>2.3</td>\n",
       "      <td>4527.01</td>\n",
       "      <td>74.62</td>\n",
       "      <td>46.21</td>\n",
       "    </tr>\n",
       "    <tr>\n",
       "      <th>4</th>\n",
       "      <td>2018-03-15</td>\n",
       "      <td>Android(All)</td>\n",
       "      <td>629154.54</td>\n",
       "      <td>15800.04</td>\n",
       "      <td>43429.11</td>\n",
       "      <td>3428.09</td>\n",
       "      <td>17.58</td>\n",
       "      <td>1.3</td>\n",
       "      <td>2.3</td>\n",
       "      <td>4527.01</td>\n",
       "      <td>76.97</td>\n",
       "      <td>56.92</td>\n",
       "    </tr>\n",
       "    <tr>\n",
       "      <th>5</th>\n",
       "      <td>2018-03-15</td>\n",
       "      <td>Android(All)</td>\n",
       "      <td>628648.96</td>\n",
       "      <td>15294.47</td>\n",
       "      <td>43429.11</td>\n",
       "      <td>3428.09</td>\n",
       "      <td>17.58</td>\n",
       "      <td>1.3</td>\n",
       "      <td>2.3</td>\n",
       "      <td>4527.01</td>\n",
       "      <td>127.37</td>\n",
       "      <td>101.95</td>\n",
       "    </tr>\n",
       "  </tbody>\n",
       "</table>\n",
       "</div>"
      ],
      "text/plain": [
       "        Date      Platform        TRU       DAU     Items    Trans  \\\n",
       "0 2018-03-15  Android(All)  628852.81  15498.31  43429.11  3428.09   \n",
       "1 2018-03-15           ALL  633293.54  19939.05  43429.11  3428.09   \n",
       "3 2018-03-15           ALL  628976.03  15621.54  43429.11  3428.09   \n",
       "4 2018-03-15  Android(All)  629154.54  15800.04  43429.11  3428.09   \n",
       "5 2018-03-15  Android(All)  628648.96  15294.47  43429.11  3428.09   \n",
       "\n",
       "   Items Per Trans  Items per DAU  Conversion  Cash Flow  Return Customer  \\\n",
       "0            17.58            1.3         2.3    4527.01            79.12   \n",
       "1            17.58            1.3         2.3    4527.01            75.65   \n",
       "3            17.58            1.3         2.3    4527.01            74.62   \n",
       "4            17.58            1.3         2.3    4527.01            76.97   \n",
       "5            17.58            1.3         2.3    4527.01           127.37   \n",
       "\n",
       "   Time Spend Per Day(seconds)  \n",
       "0                        58.18  \n",
       "1                        58.87  \n",
       "3                        46.21  \n",
       "4                        56.92  \n",
       "5                       101.95  "
      ]
     },
     "execution_count": 15,
     "metadata": {},
     "output_type": "execute_result"
    }
   ],
   "source": [
    "detectOutlier.head()"
   ]
  },
  {
   "cell_type": "code",
   "execution_count": 16,
   "metadata": {},
   "outputs": [
    {
     "name": "stderr",
     "output_type": "stream",
     "text": [
      "/Library/Frameworks/Python.framework/Versions/3.7/lib/python3.7/site-packages/ipykernel_launcher.py:2: SettingWithCopyWarning:\n",
      "\n",
      "\n",
      "A value is trying to be set on a copy of a slice from a DataFrame.\n",
      "Try using .loc[row_indexer,col_indexer] = value instead\n",
      "\n",
      "See the caveats in the documentation: http://pandas.pydata.org/pandas-docs/stable/indexing.html#indexing-view-versus-copy\n",
      "\n"
     ]
    }
   ],
   "source": [
    "## difference between provided data and self calc item per dau\n",
    "detectOutlier['Item per DAU Difference'] = (detectOutlier['Items']/detectOutlier['DAU'])-detectOutlier['Items per DAU']\n",
    "\n",
    "## difference between provided data and self calc item per trans\n",
    "detectOutlier['Item per Transcation Difference'] = (detectOutlier['Items']/detectOutlier['Trans'])-detectOutlier['Items Per Trans']\n",
    "\n",
    "## time spend per day in mins\n",
    "detectOutlier['Time Spend Per Day(mins)'] = detectOutlier['Time Spend Per Day(seconds)']//60\n",
    "\n",
    "## time spend per day in hours\n",
    "detectOutlier['Time Spend Per Day(hours)'] = detectOutlier['Time Spend Per Day(mins)']//60\n",
    "\n",
    "##date variables: month\n",
    "detectOutlier['month'] = detectOutlier['Date'].dt.month\n",
    "\n",
    "##date variables:\n",
    "detectOutlier['dayofyear'] = detectOutlier['Date'].dt.dayofyear\n",
    "\n",
    "##date variables day of week\n",
    "detectOutlier['dayofweek'] = detectOutlier['Date'].dt.dayofweek\n",
    "\n",
    "## one-hot encoding\n",
    "detectOutlier = pd.get_dummies(detectOutlier, drop_first=True)\n"
   ]
  },
  {
   "cell_type": "code",
   "execution_count": 17,
   "metadata": {},
   "outputs": [],
   "source": [
    "del detectOutlier['Date']"
   ]
  },
  {
   "cell_type": "markdown",
   "metadata": {},
   "source": [
    "#### Modelling\n",
    "\n",
    "Here we will use isolation forest to detect outlier. Isolation forest is very robust compare to kmeans or LOF. The main idea, which is different from other popular outlier detection methods, is that Isolation Forest explicitly identifies anomalies instead of profiling normal data points. Like any tree ensemble method, isolation forest is built on the basis of decision trees. In these trees, partitions are created by first randomly selecting a feature and then selecting a random split value between the minimum and maximum value of the selected feature. In this case it will automatically do a feature engineering, and as it is a tree-based model, it is robust to different scale of feature."
   ]
  },
  {
   "cell_type": "code",
   "execution_count": 13,
   "metadata": {},
   "outputs": [],
   "source": [
    "\"\"\" Use IsolationForest\"\"\"\n",
    "from sklearn.ensemble import IsolationForest\n",
    "import matplotlib.pyplot as plt\n",
    "from scipy import stats\n",
    "from sklearn.preprocessing import MinMaxScaler\n",
    "\n",
    "#set variable\n",
    "lendata = detectOutlier.shape[0]\n",
    "\n",
    "#sit normalize limited\n",
    "nmlz_a = -1\n",
    "nmlz_b = 1\n",
    "\n",
    "#it is not necessary for isolation forest, but we will still do it here in case we need to change to any other algorithm\n",
    "def normalize(dataset,a,b):\n",
    "    scaler = MinMaxScaler(feature_range=(a, b))\n",
    "    normalize_data = scaler.fit_transform(dataset)\n",
    "    return normalize_data\n",
    "\n",
    "#read dataset x,y\n",
    "x = normalize(detectOutlier, nmlz_a, nmlz_b)\n",
    "\n",
    "\n",
    "ifm = IsolationForest(n_estimators=100, verbose=2, n_jobs=2,\n",
    "                      max_samples=lendata, random_state=2020)\n",
    "\n",
    "ifm.fit(x)\n",
    "\n",
    "# The anomaly score of the input samples. The lower, the more abnormal\n",
    "# The anomaly score of the input samples. The lower, the more abnormal.\n",
    "scores_pred = ifm.decision_function(x)\n",
    "y_pred_train = ifm.predict(x)"
   ]
  },
  {
   "cell_type": "code",
   "execution_count": 19,
   "metadata": {},
   "outputs": [
    {
     "data": {
      "text/plain": [
       "1178"
      ]
     },
     "execution_count": 19,
     "metadata": {},
     "output_type": "execute_result"
    }
   ],
   "source": [
    "sum(scores_pred<0)"
   ]
  },
  {
   "cell_type": "code",
   "execution_count": 20,
   "metadata": {},
   "outputs": [
    {
     "name": "stdout",
     "output_type": "stream",
     "text": [
      " Number of dataset： 387287\n",
      " Number of anomal samples： 1178\n"
     ]
    }
   ],
   "source": [
    "# Normal data indexs\n",
    "normal = [i for i in range(len(scores_pred)) if scores_pred[i] >= 0]\n",
    "# Outlier data indexs\n",
    "outlier = [i for i in range(len(scores_pred)) if scores_pred[i] < 0]\n",
    "\n",
    "print(\" Number of dataset：\",lendata)\n",
    "print(\" Number of anomal samples：\",lendata - len(normal))"
   ]
  },
  {
   "cell_type": "code",
   "execution_count": 21,
   "metadata": {},
   "outputs": [],
   "source": [
    "detected = detectOutlier.iloc[outlier,:].reset_index(drop=True)"
   ]
  },
  {
   "cell_type": "code",
   "execution_count": 22,
   "metadata": {},
   "outputs": [
    {
     "data": {
      "text/html": [
       "<div>\n",
       "<style scoped>\n",
       "    .dataframe tbody tr th:only-of-type {\n",
       "        vertical-align: middle;\n",
       "    }\n",
       "\n",
       "    .dataframe tbody tr th {\n",
       "        vertical-align: top;\n",
       "    }\n",
       "\n",
       "    .dataframe thead th {\n",
       "        text-align: right;\n",
       "    }\n",
       "</style>\n",
       "<table border=\"1\" class=\"dataframe\">\n",
       "  <thead>\n",
       "    <tr style=\"text-align: right;\">\n",
       "      <th></th>\n",
       "      <th>TRU</th>\n",
       "      <th>DAU</th>\n",
       "      <th>Items</th>\n",
       "      <th>Trans</th>\n",
       "      <th>Items Per Trans</th>\n",
       "      <th>Items per DAU</th>\n",
       "      <th>Conversion</th>\n",
       "      <th>Cash Flow</th>\n",
       "      <th>Return Customer</th>\n",
       "      <th>Time Spend Per Day(seconds)</th>\n",
       "      <th>Item per DAU Difference</th>\n",
       "      <th>Item per Transcation Difference</th>\n",
       "      <th>Time Spend Per Day(mins)</th>\n",
       "      <th>Time Spend Per Day(hours)</th>\n",
       "      <th>month</th>\n",
       "      <th>dayofyear</th>\n",
       "      <th>dayofweek</th>\n",
       "      <th>Platform_Android(All)</th>\n",
       "      <th>Platform_IOS(All)</th>\n",
       "    </tr>\n",
       "  </thead>\n",
       "  <tbody>\n",
       "    <tr>\n",
       "      <th>0</th>\n",
       "      <td>628647.81</td>\n",
       "      <td>15293.32</td>\n",
       "      <td>43429.11</td>\n",
       "      <td>3428.09</td>\n",
       "      <td>17.58</td>\n",
       "      <td>1.3</td>\n",
       "      <td>2.3</td>\n",
       "      <td>4527.01</td>\n",
       "      <td>12.21</td>\n",
       "      <td>-9.99</td>\n",
       "      <td>1.539744</td>\n",
       "      <td>-4.911397</td>\n",
       "      <td>-1.0</td>\n",
       "      <td>-1.0</td>\n",
       "      <td>3</td>\n",
       "      <td>74</td>\n",
       "      <td>3</td>\n",
       "      <td>0</td>\n",
       "      <td>0</td>\n",
       "    </tr>\n",
       "    <tr>\n",
       "      <th>1</th>\n",
       "      <td>628647.81</td>\n",
       "      <td>15293.32</td>\n",
       "      <td>43429.11</td>\n",
       "      <td>3428.09</td>\n",
       "      <td>17.58</td>\n",
       "      <td>1.3</td>\n",
       "      <td>2.3</td>\n",
       "      <td>4527.01</td>\n",
       "      <td>12.21</td>\n",
       "      <td>-9.99</td>\n",
       "      <td>1.539744</td>\n",
       "      <td>-4.911397</td>\n",
       "      <td>-1.0</td>\n",
       "      <td>-1.0</td>\n",
       "      <td>3</td>\n",
       "      <td>74</td>\n",
       "      <td>3</td>\n",
       "      <td>1</td>\n",
       "      <td>0</td>\n",
       "    </tr>\n",
       "    <tr>\n",
       "      <th>2</th>\n",
       "      <td>628648.96</td>\n",
       "      <td>15294.47</td>\n",
       "      <td>43429.11</td>\n",
       "      <td>3428.09</td>\n",
       "      <td>17.58</td>\n",
       "      <td>1.3</td>\n",
       "      <td>2.3</td>\n",
       "      <td>4527.01</td>\n",
       "      <td>12.21</td>\n",
       "      <td>-2.74</td>\n",
       "      <td>1.539530</td>\n",
       "      <td>-4.911397</td>\n",
       "      <td>-1.0</td>\n",
       "      <td>-1.0</td>\n",
       "      <td>3</td>\n",
       "      <td>74</td>\n",
       "      <td>3</td>\n",
       "      <td>0</td>\n",
       "      <td>0</td>\n",
       "    </tr>\n",
       "    <tr>\n",
       "      <th>3</th>\n",
       "      <td>628647.81</td>\n",
       "      <td>15293.32</td>\n",
       "      <td>43429.11</td>\n",
       "      <td>3428.09</td>\n",
       "      <td>17.58</td>\n",
       "      <td>1.3</td>\n",
       "      <td>2.3</td>\n",
       "      <td>4527.01</td>\n",
       "      <td>12.21</td>\n",
       "      <td>-8.50</td>\n",
       "      <td>1.539744</td>\n",
       "      <td>-4.911397</td>\n",
       "      <td>-1.0</td>\n",
       "      <td>-1.0</td>\n",
       "      <td>3</td>\n",
       "      <td>74</td>\n",
       "      <td>3</td>\n",
       "      <td>0</td>\n",
       "      <td>0</td>\n",
       "    </tr>\n",
       "    <tr>\n",
       "      <th>4</th>\n",
       "      <td>628648.96</td>\n",
       "      <td>15294.47</td>\n",
       "      <td>43429.11</td>\n",
       "      <td>3428.09</td>\n",
       "      <td>17.58</td>\n",
       "      <td>1.3</td>\n",
       "      <td>2.3</td>\n",
       "      <td>4527.01</td>\n",
       "      <td>12.21</td>\n",
       "      <td>-2.74</td>\n",
       "      <td>1.539530</td>\n",
       "      <td>-4.911397</td>\n",
       "      <td>-1.0</td>\n",
       "      <td>-1.0</td>\n",
       "      <td>3</td>\n",
       "      <td>74</td>\n",
       "      <td>3</td>\n",
       "      <td>1</td>\n",
       "      <td>0</td>\n",
       "    </tr>\n",
       "  </tbody>\n",
       "</table>\n",
       "</div>"
      ],
      "text/plain": [
       "         TRU       DAU     Items    Trans  Items Per Trans  Items per DAU  \\\n",
       "0  628647.81  15293.32  43429.11  3428.09            17.58            1.3   \n",
       "1  628647.81  15293.32  43429.11  3428.09            17.58            1.3   \n",
       "2  628648.96  15294.47  43429.11  3428.09            17.58            1.3   \n",
       "3  628647.81  15293.32  43429.11  3428.09            17.58            1.3   \n",
       "4  628648.96  15294.47  43429.11  3428.09            17.58            1.3   \n",
       "\n",
       "   Conversion  Cash Flow  Return Customer  Time Spend Per Day(seconds)  \\\n",
       "0         2.3    4527.01            12.21                        -9.99   \n",
       "1         2.3    4527.01            12.21                        -9.99   \n",
       "2         2.3    4527.01            12.21                        -2.74   \n",
       "3         2.3    4527.01            12.21                        -8.50   \n",
       "4         2.3    4527.01            12.21                        -2.74   \n",
       "\n",
       "   Item per DAU Difference  Item per Transcation Difference  \\\n",
       "0                 1.539744                        -4.911397   \n",
       "1                 1.539744                        -4.911397   \n",
       "2                 1.539530                        -4.911397   \n",
       "3                 1.539744                        -4.911397   \n",
       "4                 1.539530                        -4.911397   \n",
       "\n",
       "   Time Spend Per Day(mins)  Time Spend Per Day(hours)  month  dayofyear  \\\n",
       "0                      -1.0                       -1.0      3         74   \n",
       "1                      -1.0                       -1.0      3         74   \n",
       "2                      -1.0                       -1.0      3         74   \n",
       "3                      -1.0                       -1.0      3         74   \n",
       "4                      -1.0                       -1.0      3         74   \n",
       "\n",
       "   dayofweek  Platform_Android(All)  Platform_IOS(All)  \n",
       "0          3                      0                  0  \n",
       "1          3                      1                  0  \n",
       "2          3                      0                  0  \n",
       "3          3                      0                  0  \n",
       "4          3                      1                  0  "
      ]
     },
     "execution_count": 22,
     "metadata": {},
     "output_type": "execute_result"
    }
   ],
   "source": [
    "detected.head()"
   ]
  },
  {
   "cell_type": "code",
   "execution_count": 23,
   "metadata": {},
   "outputs": [
    {
     "data": {
      "text/plain": [
       "0.3769100169779287"
      ]
     },
     "execution_count": 23,
     "metadata": {},
     "output_type": "execute_result"
    }
   ],
   "source": [
    "sum(detected['Platform_Android(All)']==1)/len(detected)"
   ]
  },
  {
   "cell_type": "code",
   "execution_count": 24,
   "metadata": {},
   "outputs": [
    {
     "data": {
      "text/plain": [
       "0.2623089983022071"
      ]
     },
     "execution_count": 24,
     "metadata": {},
     "output_type": "execute_result"
    }
   ],
   "source": [
    "sum(detected['Platform_IOS(All)']==1)/len(detected)"
   ]
  },
  {
   "cell_type": "code",
   "execution_count": 25,
   "metadata": {},
   "outputs": [
    {
     "data": {
      "text/plain": [
       "0.3607809847198642"
      ]
     },
     "execution_count": 25,
     "metadata": {},
     "output_type": "execute_result"
    }
   ],
   "source": [
    "1-0.3769100169779287-0.2623089983022071"
   ]
  },
  {
   "cell_type": "code",
   "execution_count": 26,
   "metadata": {},
   "outputs": [
    {
     "data": {
      "text/plain": [
       "ALL             0.336872\n",
       "Android(All)    0.334204\n",
       "IOS(All)        0.328924\n",
       "Name: Platform, dtype: float64"
      ]
     },
     "execution_count": 26,
     "metadata": {},
     "output_type": "execute_result"
    }
   ],
   "source": [
    "df.Platform.value_counts()/len(df.Platform)"
   ]
  },
  {
   "cell_type": "markdown",
   "metadata": {},
   "source": [
    "Findings:\n",
    "* 1) Time logging error. Some of the time spend per day in the outiers are negative,which is quite obvious that they are outliers, as there is no possibility of spending negative amount of time at the platform. Need to communicate with engineers who are responsible for the time logging.\n",
    "* 2) All the the 'Item per transcation difference' in the dataset are negative, which means that the manually calcuated item per transcation is less than the provided dataset, some of the value differences even greater than 100. Need to communicate with someone who are responsible for the metric calculation, to see if there is anything missing from the dataset.\n",
    "* 3) More outliers exist in Android platform and 'ALL' platform, especially android, there are about 33% rows of data recorded as android platform; however 37% of the outliers are from Android based on the outlier detection."
   ]
  },
  {
   "cell_type": "markdown",
   "metadata": {},
   "source": [
    "## Task3 \n",
    "Clustering/prediction models based on the attached dataset. "
   ]
  },
  {
   "cell_type": "markdown",
   "metadata": {},
   "source": [
    "## Clustering\n",
    "We can do a customer profiling based on the data. For example, by grouping by data based on country, and cluster data to see how data perform in different country."
   ]
  },
  {
   "cell_type": "code",
   "execution_count": 27,
   "metadata": {},
   "outputs": [],
   "source": [
    "from sklearn.cluster import KMeans\n",
    "from mpl_toolkits.mplot3d import Axes3D"
   ]
  },
  {
   "cell_type": "code",
   "execution_count": 28,
   "metadata": {},
   "outputs": [
    {
     "data": {
      "text/html": [
       "<div>\n",
       "<style scoped>\n",
       "    .dataframe tbody tr th:only-of-type {\n",
       "        vertical-align: middle;\n",
       "    }\n",
       "\n",
       "    .dataframe tbody tr th {\n",
       "        vertical-align: top;\n",
       "    }\n",
       "\n",
       "    .dataframe thead th {\n",
       "        text-align: right;\n",
       "    }\n",
       "</style>\n",
       "<table border=\"1\" class=\"dataframe\">\n",
       "  <thead>\n",
       "    <tr style=\"text-align: right;\">\n",
       "      <th></th>\n",
       "      <th>Date</th>\n",
       "      <th>Platform</th>\n",
       "      <th>TRU</th>\n",
       "      <th>DAU</th>\n",
       "      <th>Items</th>\n",
       "      <th>Trans</th>\n",
       "      <th>Items Per Trans</th>\n",
       "      <th>Items per DAU</th>\n",
       "      <th>Conversion</th>\n",
       "      <th>Cash Flow</th>\n",
       "      <th>Return Customer</th>\n",
       "      <th>Time Spend Per Day(seconds)</th>\n",
       "      <th>Country_Chinese</th>\n",
       "      <th>Country_English</th>\n",
       "    </tr>\n",
       "  </thead>\n",
       "  <tbody>\n",
       "    <tr>\n",
       "      <th>0</th>\n",
       "      <td>2018-03-15</td>\n",
       "      <td>Android(All)</td>\n",
       "      <td>628852.81</td>\n",
       "      <td>15498.31</td>\n",
       "      <td>43429.11</td>\n",
       "      <td>3428.09</td>\n",
       "      <td>17.58</td>\n",
       "      <td>1.3</td>\n",
       "      <td>2.3</td>\n",
       "      <td>4527.01</td>\n",
       "      <td>79.12</td>\n",
       "      <td>58.18</td>\n",
       "      <td>哈萨克斯坦</td>\n",
       "      <td>Kazakhstan</td>\n",
       "    </tr>\n",
       "    <tr>\n",
       "      <th>1</th>\n",
       "      <td>2018-03-15</td>\n",
       "      <td>ALL</td>\n",
       "      <td>633293.54</td>\n",
       "      <td>19939.05</td>\n",
       "      <td>43429.11</td>\n",
       "      <td>3428.09</td>\n",
       "      <td>17.58</td>\n",
       "      <td>1.3</td>\n",
       "      <td>2.3</td>\n",
       "      <td>4527.01</td>\n",
       "      <td>75.65</td>\n",
       "      <td>58.87</td>\n",
       "      <td>美国</td>\n",
       "      <td>United States</td>\n",
       "    </tr>\n",
       "    <tr>\n",
       "      <th>2</th>\n",
       "      <td>2018-03-15</td>\n",
       "      <td>ALL</td>\n",
       "      <td>628976.03</td>\n",
       "      <td>15621.54</td>\n",
       "      <td>43429.11</td>\n",
       "      <td>3428.09</td>\n",
       "      <td>17.58</td>\n",
       "      <td>1.3</td>\n",
       "      <td>2.3</td>\n",
       "      <td>4527.01</td>\n",
       "      <td>74.62</td>\n",
       "      <td>46.21</td>\n",
       "      <td>危地马拉</td>\n",
       "      <td>Guatemala</td>\n",
       "    </tr>\n",
       "    <tr>\n",
       "      <th>3</th>\n",
       "      <td>2018-03-15</td>\n",
       "      <td>Android(All)</td>\n",
       "      <td>629154.54</td>\n",
       "      <td>15800.04</td>\n",
       "      <td>43429.11</td>\n",
       "      <td>3428.09</td>\n",
       "      <td>17.58</td>\n",
       "      <td>1.3</td>\n",
       "      <td>2.3</td>\n",
       "      <td>4527.01</td>\n",
       "      <td>76.97</td>\n",
       "      <td>56.92</td>\n",
       "      <td>白俄罗斯</td>\n",
       "      <td>Belarus</td>\n",
       "    </tr>\n",
       "    <tr>\n",
       "      <th>4</th>\n",
       "      <td>2018-03-15</td>\n",
       "      <td>Android(All)</td>\n",
       "      <td>628648.96</td>\n",
       "      <td>15294.47</td>\n",
       "      <td>43429.11</td>\n",
       "      <td>3428.09</td>\n",
       "      <td>17.58</td>\n",
       "      <td>1.3</td>\n",
       "      <td>2.3</td>\n",
       "      <td>4527.01</td>\n",
       "      <td>127.37</td>\n",
       "      <td>101.95</td>\n",
       "      <td>加纳</td>\n",
       "      <td>Ghana</td>\n",
       "    </tr>\n",
       "  </tbody>\n",
       "</table>\n",
       "</div>"
      ],
      "text/plain": [
       "        Date      Platform        TRU       DAU     Items    Trans  \\\n",
       "0 2018-03-15  Android(All)  628852.81  15498.31  43429.11  3428.09   \n",
       "1 2018-03-15           ALL  633293.54  19939.05  43429.11  3428.09   \n",
       "2 2018-03-15           ALL  628976.03  15621.54  43429.11  3428.09   \n",
       "3 2018-03-15  Android(All)  629154.54  15800.04  43429.11  3428.09   \n",
       "4 2018-03-15  Android(All)  628648.96  15294.47  43429.11  3428.09   \n",
       "\n",
       "   Items Per Trans  Items per DAU  Conversion  Cash Flow  Return Customer  \\\n",
       "0            17.58            1.3         2.3    4527.01            79.12   \n",
       "1            17.58            1.3         2.3    4527.01            75.65   \n",
       "2            17.58            1.3         2.3    4527.01            74.62   \n",
       "3            17.58            1.3         2.3    4527.01            76.97   \n",
       "4            17.58            1.3         2.3    4527.01           127.37   \n",
       "\n",
       "   Time Spend Per Day(seconds) Country_Chinese Country_English  \n",
       "0                        58.18           哈萨克斯坦      Kazakhstan  \n",
       "1                        58.87              美国   United States  \n",
       "2                        46.21            危地马拉       Guatemala  \n",
       "3                        56.92            白俄罗斯         Belarus  \n",
       "4                       101.95              加纳           Ghana  "
      ]
     },
     "execution_count": 28,
     "metadata": {},
     "output_type": "execute_result"
    }
   ],
   "source": [
    "# Get normal data\n",
    "Normal_data = df.iloc[normal,:].reset_index(drop=True)\n",
    "Normal_data.head()"
   ]
  },
  {
   "cell_type": "code",
   "execution_count": 29,
   "metadata": {},
   "outputs": [],
   "source": [
    "\"\"\" Categorical encoding  \"\"\"\n",
    "from sklearn.preprocessing import LabelEncoder\n",
    "\n",
    "labelencoder = LabelEncoder()\n",
    "\n",
    "# Assigning numerical values for Platform\n",
    "Platform_types = Normal_data['Platform'].value_counts().keys().tolist()\n",
    "Normal_data['Platform'] = labelencoder.fit_transform(Normal_data['Platform'])\n",
    "\n",
    "#final dataset before clustering\n",
    "Normal_data = Normal_data.drop('Country_Chinese',axis = 1)\n",
    "\n",
    "#group by country\n",
    "Normal_data = Normal_data.groupby(['Country_English']).mean()"
   ]
  },
  {
   "cell_type": "code",
   "execution_count": 30,
   "metadata": {},
   "outputs": [
    {
     "data": {
      "image/png": "[encoded data removed]",
      "text/plain": [
       "<Figure size 720x432 with 1 Axes>"
      ]
     },
     "metadata": {
      "needs_background": "light"
     },
     "output_type": "display_data"
    }
   ],
   "source": [
    "#apply kmeans cluster\n",
    "n_cluster = range(1, 20)\n",
    "kmeans = [KMeans(n_clusters=i).fit(Normal_data) for i in n_cluster]\n",
    "scores = [kmeans[i].score(Normal_data) for i in range(len(kmeans))]\n",
    "\n",
    "#elbow method to choose the best number of clusters\n",
    "fig, ax = plt.subplots(figsize=(10,6))\n",
    "ax.plot(n_cluster, scores)\n",
    "plt.xlabel('Number of clusters')\n",
    "plt.ylabel('Score')\n",
    "plt.title('Elbow Curve')\n",
    "plt.show()"
   ]
  },
  {
   "cell_type": "code",
   "execution_count": 31,
   "metadata": {},
   "outputs": [],
   "source": [
    "km = KMeans(n_clusters=5)\n",
    "km.fit(Normal_data)\n",
    "km.predict(Normal_data)\n",
    "labels = km.labels_\n",
    "\n",
    "#label the dataset\n",
    "Normal_data['Label'] = labels"
   ]
  },
  {
   "cell_type": "code",
   "execution_count": 32,
   "metadata": {},
   "outputs": [
    {
     "data": {
      "text/html": [
       "<div>\n",
       "<style scoped>\n",
       "    .dataframe tbody tr th:only-of-type {\n",
       "        vertical-align: middle;\n",
       "    }\n",
       "\n",
       "    .dataframe tbody tr th {\n",
       "        vertical-align: top;\n",
       "    }\n",
       "\n",
       "    .dataframe thead th {\n",
       "        text-align: right;\n",
       "    }\n",
       "</style>\n",
       "<table border=\"1\" class=\"dataframe\">\n",
       "  <thead>\n",
       "    <tr style=\"text-align: right;\">\n",
       "      <th></th>\n",
       "      <th>Platform</th>\n",
       "      <th>TRU</th>\n",
       "      <th>DAU</th>\n",
       "      <th>Items</th>\n",
       "      <th>Trans</th>\n",
       "      <th>Items Per Trans</th>\n",
       "      <th>Items per DAU</th>\n",
       "      <th>Conversion</th>\n",
       "      <th>Cash Flow</th>\n",
       "      <th>Return Customer</th>\n",
       "      <th>Time Spend Per Day(seconds)</th>\n",
       "      <th>Label</th>\n",
       "    </tr>\n",
       "    <tr>\n",
       "      <th>Country_English</th>\n",
       "      <th></th>\n",
       "      <th></th>\n",
       "      <th></th>\n",
       "      <th></th>\n",
       "      <th></th>\n",
       "      <th></th>\n",
       "      <th></th>\n",
       "      <th></th>\n",
       "      <th></th>\n",
       "      <th></th>\n",
       "      <th></th>\n",
       "      <th></th>\n",
       "    </tr>\n",
       "  </thead>\n",
       "  <tbody>\n",
       "    <tr>\n",
       "      <th>Afghanistan</th>\n",
       "      <td>0.999400</td>\n",
       "      <td>648472.491404</td>\n",
       "      <td>15704.251008</td>\n",
       "      <td>44633.467894</td>\n",
       "      <td>3500.578980</td>\n",
       "      <td>41.344313</td>\n",
       "      <td>1.402867</td>\n",
       "      <td>2.789328</td>\n",
       "      <td>4635.142364</td>\n",
       "      <td>55.949886</td>\n",
       "      <td>163.910294</td>\n",
       "      <td>0</td>\n",
       "    </tr>\n",
       "    <tr>\n",
       "      <th>Albania</th>\n",
       "      <td>1.004788</td>\n",
       "      <td>655541.245410</td>\n",
       "      <td>16025.730431</td>\n",
       "      <td>43850.052424</td>\n",
       "      <td>3460.028354</td>\n",
       "      <td>31.104034</td>\n",
       "      <td>1.312083</td>\n",
       "      <td>2.404159</td>\n",
       "      <td>4556.606002</td>\n",
       "      <td>44.023214</td>\n",
       "      <td>109.754638</td>\n",
       "      <td>0</td>\n",
       "    </tr>\n",
       "    <tr>\n",
       "      <th>Algeria</th>\n",
       "      <td>0.995244</td>\n",
       "      <td>753527.730565</td>\n",
       "      <td>18540.174067</td>\n",
       "      <td>45596.373977</td>\n",
       "      <td>3597.045696</td>\n",
       "      <td>37.145285</td>\n",
       "      <td>1.320476</td>\n",
       "      <td>2.421552</td>\n",
       "      <td>4702.131576</td>\n",
       "      <td>48.650357</td>\n",
       "      <td>141.808240</td>\n",
       "      <td>4</td>\n",
       "    </tr>\n",
       "    <tr>\n",
       "      <th>American Samoa</th>\n",
       "      <td>0.995196</td>\n",
       "      <td>628678.154873</td>\n",
       "      <td>15292.751716</td>\n",
       "      <td>43432.365992</td>\n",
       "      <td>3428.369842</td>\n",
       "      <td>20.191373</td>\n",
       "      <td>1.409300</td>\n",
       "      <td>3.178785</td>\n",
       "      <td>4527.228126</td>\n",
       "      <td>26.318518</td>\n",
       "      <td>176.529369</td>\n",
       "      <td>0</td>\n",
       "    </tr>\n",
       "    <tr>\n",
       "      <th>Andorra</th>\n",
       "      <td>0.983491</td>\n",
       "      <td>628779.860195</td>\n",
       "      <td>15299.983196</td>\n",
       "      <td>43439.369310</td>\n",
       "      <td>3428.608874</td>\n",
       "      <td>24.794210</td>\n",
       "      <td>1.404511</td>\n",
       "      <td>2.819505</td>\n",
       "      <td>4527.697954</td>\n",
       "      <td>31.996327</td>\n",
       "      <td>88.983160</td>\n",
       "      <td>0</td>\n",
       "    </tr>\n",
       "  </tbody>\n",
       "</table>\n",
       "</div>"
      ],
      "text/plain": [
       "                 Platform            TRU           DAU         Items  \\\n",
       "Country_English                                                        \n",
       "Afghanistan      0.999400  648472.491404  15704.251008  44633.467894   \n",
       "Albania          1.004788  655541.245410  16025.730431  43850.052424   \n",
       "Algeria          0.995244  753527.730565  18540.174067  45596.373977   \n",
       "American Samoa   0.995196  628678.154873  15292.751716  43432.365992   \n",
       "Andorra          0.983491  628779.860195  15299.983196  43439.369310   \n",
       "\n",
       "                       Trans  Items Per Trans  Items per DAU  Conversion  \\\n",
       "Country_English                                                            \n",
       "Afghanistan      3500.578980        41.344313       1.402867    2.789328   \n",
       "Albania          3460.028354        31.104034       1.312083    2.404159   \n",
       "Algeria          3597.045696        37.145285       1.320476    2.421552   \n",
       "American Samoa   3428.369842        20.191373       1.409300    3.178785   \n",
       "Andorra          3428.608874        24.794210       1.404511    2.819505   \n",
       "\n",
       "                   Cash Flow  Return Customer  Time Spend Per Day(seconds)  \\\n",
       "Country_English                                                              \n",
       "Afghanistan      4635.142364        55.949886                   163.910294   \n",
       "Albania          4556.606002        44.023214                   109.754638   \n",
       "Algeria          4702.131576        48.650357                   141.808240   \n",
       "American Samoa   4527.228126        26.318518                   176.529369   \n",
       "Andorra          4527.697954        31.996327                    88.983160   \n",
       "\n",
       "                 Label  \n",
       "Country_English         \n",
       "Afghanistan          0  \n",
       "Albania              0  \n",
       "Algeria              4  \n",
       "American Samoa       0  \n",
       "Andorra              0  "
      ]
     },
     "execution_count": 32,
     "metadata": {},
     "output_type": "execute_result"
    }
   ],
   "source": [
    "Normal_data.head()"
   ]
  },
  {
   "cell_type": "code",
   "execution_count": 33,
   "metadata": {},
   "outputs": [
    {
     "data": {
      "image/png": "[encoded data removed]",
      "text/plain": [
       "<Figure size 432x288 with 1 Axes>"
      ]
     },
     "metadata": {
      "needs_background": "light"
     },
     "output_type": "display_data"
    }
   ],
   "source": [
    "ax = sns.scatterplot(x='TRU', y='Cash Flow',\n",
    "                     hue='Label', data=Normal_data)"
   ]
  },
  {
   "cell_type": "code",
   "execution_count": 34,
   "metadata": {},
   "outputs": [
    {
     "data": {
      "image/png": "[encoded data removed]",
      "text/plain": [
       "<Figure size 432x288 with 1 Axes>"
      ]
     },
     "metadata": {
      "needs_background": "light"
     },
     "output_type": "display_data"
    }
   ],
   "source": [
    "ax = sns.scatterplot(x='TRU', y='DAU',\n",
    "                     hue='Label', data=Normal_data)"
   ]
  },
  {
   "cell_type": "code",
   "execution_count": 35,
   "metadata": {},
   "outputs": [
    {
     "data": {
      "image/png": "[encoded data removed]",
      "text/plain": [
       "<Figure size 432x288 with 1 Axes>"
      ]
     },
     "metadata": {
      "needs_background": "light"
     },
     "output_type": "display_data"
    }
   ],
   "source": [
    "ax = sns.scatterplot(x='DAU', y='Cash Flow',\n",
    "                     hue='Label', data=Normal_data)"
   ]
  },
  {
   "cell_type": "code",
   "execution_count": 36,
   "metadata": {},
   "outputs": [
    {
     "data": {
      "text/plain": [
       "Text(0.5, 0.92, 'K - Means')"
      ]
     },
     "execution_count": 36,
     "metadata": {},
     "output_type": "execute_result"
    },
    {
     "data": {
      "image/png": "[encoded data removed]",
      "text/plain": [
       "<Figure size 720x720 with 1 Axes>"
      ]
     },
     "metadata": {
      "needs_background": "light"
     },
     "output_type": "display_data"
    }
   ],
   "source": [
    "# Plot the distribution of data by TRU,DAU,cashflow\n",
    "fig = plt.figure(1, figsize=(10,10))\n",
    "ax = Axes3D(fig, rect=[0, 0, 0.95, 1], elev=48, azim=134)\n",
    "ax.scatter(Normal_data.iloc[:,1],Normal_data.iloc[:,2],Normal_data.iloc[:,8], c=labels.astype(np.float), edgecolor=\"k\")\n",
    "ax.set_xlabel(\"TRU\")\n",
    "ax.set_ylabel(\"DAU\")\n",
    "ax.set_zlabel(\"Cash Flow\")\n",
    "plt.title(\"K - Means\", fontsize=14)"
   ]
  },
  {
   "cell_type": "code",
   "execution_count": 37,
   "metadata": {},
   "outputs": [],
   "source": [
    "Normal_data = Normal_data.reset_index()"
   ]
  },
  {
   "cell_type": "code",
   "execution_count": 38,
   "metadata": {},
   "outputs": [
    {
     "data": {
      "text/plain": [
       "['Afghanistan',\n",
       " 'Albania',\n",
       " 'American Samoa',\n",
       " 'Andorra',\n",
       " 'Angola',\n",
       " 'Anguilla',\n",
       " 'Antigua and Barbuda',\n",
       " 'Argentina',\n",
       " 'Armenia',\n",
       " 'Aruba',\n",
       " 'Australia',\n",
       " 'Austria',\n",
       " 'Azerbaijan',\n",
       " 'Bahamas',\n",
       " 'Bahrain',\n",
       " 'Barbados',\n",
       " 'Belarus',\n",
       " 'Belgium',\n",
       " 'Belize',\n",
       " 'Benin',\n",
       " 'Bermuda',\n",
       " 'Bhutan',\n",
       " 'Bolivia',\n",
       " 'Bosnia and Herzegovina',\n",
       " 'Botswana',\n",
       " 'British Indian Ocean Territory',\n",
       " 'British Virgin Islands',\n",
       " 'Brunei',\n",
       " 'Bulgaria',\n",
       " 'Burkina Faso',\n",
       " 'Burundi',\n",
       " 'Cambodia',\n",
       " 'Cameroon',\n",
       " 'Canada',\n",
       " 'Cape Verde',\n",
       " 'Cayman Islands',\n",
       " 'Central Africa',\n",
       " 'Chad',\n",
       " 'Chile',\n",
       " 'Colombia',\n",
       " 'Comores',\n",
       " 'Congo',\n",
       " 'Congo )',\n",
       " 'Cook Islands',\n",
       " 'Costa Rica',\n",
       " 'Croatia',\n",
       " 'Cuba',\n",
       " 'Curacao',\n",
       " 'Cyprus',\n",
       " 'Czech',\n",
       " 'Côte dIvoire',\n",
       " 'Denmark',\n",
       " 'Djibouti',\n",
       " 'Dominica',\n",
       " 'Dutch Caribbean',\n",
       " 'EU',\n",
       " 'East Timor',\n",
       " 'Ecuador',\n",
       " 'El Salvador',\n",
       " 'Equatorial Guinea',\n",
       " 'Eritrea',\n",
       " 'Estonia',\n",
       " 'Ethiopia',\n",
       " 'Falkland Islands',\n",
       " 'Faroe Islands',\n",
       " 'Federated States of Micronesia',\n",
       " 'Fiji Islands',\n",
       " 'Finland',\n",
       " 'France',\n",
       " 'French Guiana',\n",
       " 'French Polynesia',\n",
       " 'Gabon',\n",
       " 'Gambia',\n",
       " 'Georgia',\n",
       " 'Ghana',\n",
       " 'Gibraltar',\n",
       " 'Greece',\n",
       " 'Greenland',\n",
       " 'Grenada',\n",
       " 'Guadeloupe',\n",
       " 'Guam',\n",
       " 'Guatemala',\n",
       " 'Guernsey',\n",
       " 'Guinea',\n",
       " 'Guinea-Bissau',\n",
       " 'Guyana',\n",
       " 'Haiti',\n",
       " 'Honduras',\n",
       " 'Hungary',\n",
       " 'Iceland',\n",
       " 'Iran',\n",
       " 'Ireland',\n",
       " 'Isle of Man',\n",
       " 'Italy',\n",
       " 'Jamaica',\n",
       " 'Jersey',\n",
       " 'Kazakhstan',\n",
       " 'Kenya',\n",
       " 'Kiribati',\n",
       " 'Kyrgyzstan',\n",
       " 'Laos',\n",
       " 'Latvia',\n",
       " 'Lesotho',\n",
       " 'Liberia',\n",
       " 'Liechtenstein',\n",
       " 'Lithuania',\n",
       " 'Luxembourg',\n",
       " 'Macao',\n",
       " 'Macedonia',\n",
       " 'Madagascar',\n",
       " 'Malawi',\n",
       " 'Maldives',\n",
       " 'Mali',\n",
       " 'Malta',\n",
       " 'Marshall Islands',\n",
       " 'Martinique',\n",
       " 'Mauritania',\n",
       " 'Mauritius',\n",
       " 'Mayotte',\n",
       " 'Moldova',\n",
       " 'Monaco',\n",
       " 'Mongolia',\n",
       " 'Montenegro',\n",
       " 'Montserrat',\n",
       " 'Morocco',\n",
       " 'Mozambique',\n",
       " 'Namibia',\n",
       " 'Nauru',\n",
       " 'Netherlands',\n",
       " 'New Caledonia',\n",
       " 'Nicaragua',\n",
       " 'Niger',\n",
       " 'Nigeria',\n",
       " 'Niue',\n",
       " 'Norfolk Island',\n",
       " 'North Korea',\n",
       " 'Northern Mariana Islands',\n",
       " 'Norway',\n",
       " 'Oman',\n",
       " 'Palau',\n",
       " 'Palestine',\n",
       " 'Panama',\n",
       " 'Papua New Guinea',\n",
       " 'Paraguay',\n",
       " 'Peru',\n",
       " 'Poland',\n",
       " 'Portugal',\n",
       " 'Puerto Rico',\n",
       " 'Qatar',\n",
       " 'Reunion',\n",
       " 'Romania',\n",
       " 'Rwanda',\n",
       " 'Saint Barths',\n",
       " 'Saint Kitts and Nevis',\n",
       " 'Saint Lucia',\n",
       " 'Saint Martin',\n",
       " 'Saint Pierre and Miquelon',\n",
       " 'Saint Vincent and the Grenadines',\n",
       " 'Samoa',\n",
       " 'San Marino',\n",
       " 'Sao Tome and Principe',\n",
       " 'Senegal',\n",
       " 'Serbia',\n",
       " 'Seychelles',\n",
       " 'Sierra Leone',\n",
       " 'Singapore',\n",
       " 'Sint Maarten',\n",
       " 'Slovakia',\n",
       " 'Slovenia',\n",
       " 'Solomon Islands',\n",
       " 'Somalia',\n",
       " 'South Africa',\n",
       " 'South Sudan',\n",
       " 'Spain',\n",
       " 'Sri Lanka',\n",
       " 'Sudan',\n",
       " 'Surinam',\n",
       " 'Swaziland',\n",
       " 'Sweden',\n",
       " 'Switzerland',\n",
       " 'Syria',\n",
       " 'Taiwan',\n",
       " 'Tajikistan',\n",
       " 'Tanzania',\n",
       " 'Togo',\n",
       " 'Tokelau',\n",
       " 'Tonga',\n",
       " 'Trinidad and Tobago',\n",
       " 'Tunisia',\n",
       " 'Turkmenistan',\n",
       " 'Turks and Caicos Islands',\n",
       " 'Tuvalu',\n",
       " 'Uganda',\n",
       " 'United States Virgin Islands',\n",
       " 'Uruguay',\n",
       " 'Uzbekistan',\n",
       " 'Vanuatu',\n",
       " 'Vatican',\n",
       " 'Venezuela',\n",
       " 'Wallis et Futuna',\n",
       " 'Yemen',\n",
       " 'Zambia',\n",
       " 'Zimbabwe',\n",
       " 'new Zealand',\n",
       " 'other',\n",
       " 'unknown']"
      ]
     },
     "execution_count": 38,
     "metadata": {},
     "output_type": "execute_result"
    }
   ],
   "source": [
    "Normal_data[Normal_data.Label == 0]['Country_English'].tolist()"
   ]
  },
  {
   "cell_type": "code",
   "execution_count": 39,
   "metadata": {},
   "outputs": [
    {
     "data": {
      "text/plain": [
       "['India']"
      ]
     },
     "execution_count": 39,
     "metadata": {},
     "output_type": "execute_result"
    }
   ],
   "source": [
    "Normal_data[Normal_data.Label == 1]['Country_English'].tolist()"
   ]
  },
  {
   "cell_type": "code",
   "execution_count": 40,
   "metadata": {},
   "outputs": [
    {
     "data": {
      "text/plain": [
       "['Indonesia', 'Iraq', 'Turkey']"
      ]
     },
     "execution_count": 40,
     "metadata": {},
     "output_type": "execute_result"
    }
   ],
   "source": [
    "Normal_data[Normal_data.Label == 2]['Country_English'].tolist()"
   ]
  },
  {
   "cell_type": "code",
   "execution_count": 41,
   "metadata": {},
   "outputs": [
    {
     "data": {
      "text/plain": [
       "['Egypt',\n",
       " 'Korea',\n",
       " 'Malaysia',\n",
       " 'Russia',\n",
       " 'Saudi Arabia',\n",
       " 'Thailand',\n",
       " 'United States']"
      ]
     },
     "execution_count": 41,
     "metadata": {},
     "output_type": "execute_result"
    }
   ],
   "source": [
    "Normal_data[Normal_data.Label == 3]['Country_English'].tolist()"
   ]
  },
  {
   "cell_type": "code",
   "execution_count": 42,
   "metadata": {},
   "outputs": [
    {
     "data": {
      "text/plain": [
       "['Algeria',\n",
       " 'Bengal',\n",
       " 'Brazil',\n",
       " 'China',\n",
       " 'Germany',\n",
       " 'Hong Kong',\n",
       " 'Israel',\n",
       " 'Japan',\n",
       " 'Jordan',\n",
       " 'Kuwait',\n",
       " 'Lebanon',\n",
       " 'Libya',\n",
       " 'Mexico',\n",
       " 'Myanmar',\n",
       " 'Nepal',\n",
       " 'Pakistan',\n",
       " 'Philippines',\n",
       " 'Ukraine',\n",
       " 'United Arab Emirates',\n",
       " 'United Kingdom',\n",
       " 'Vietnam']"
      ]
     },
     "execution_count": 42,
     "metadata": {},
     "output_type": "execute_result"
    }
   ],
   "source": [
    "Normal_data[Normal_data.Label == 4]['Country_English'].tolist()"
   ]
  },
  {
   "cell_type": "code",
   "execution_count": 43,
   "metadata": {},
   "outputs": [
    {
     "data": {
      "text/html": [
       "<div>\n",
       "<style scoped>\n",
       "    .dataframe tbody tr th:only-of-type {\n",
       "        vertical-align: middle;\n",
       "    }\n",
       "\n",
       "    .dataframe tbody tr th {\n",
       "        vertical-align: top;\n",
       "    }\n",
       "\n",
       "    .dataframe thead th {\n",
       "        text-align: right;\n",
       "    }\n",
       "</style>\n",
       "<table border=\"1\" class=\"dataframe\">\n",
       "  <thead>\n",
       "    <tr style=\"text-align: right;\">\n",
       "      <th></th>\n",
       "      <th>Platform</th>\n",
       "      <th>TRU</th>\n",
       "      <th>DAU</th>\n",
       "      <th>Items</th>\n",
       "      <th>Trans</th>\n",
       "      <th>Items Per Trans</th>\n",
       "      <th>Items per DAU</th>\n",
       "      <th>Conversion</th>\n",
       "      <th>Cash Flow</th>\n",
       "      <th>Return Customer</th>\n",
       "      <th>Time Spend Per Day(seconds)</th>\n",
       "    </tr>\n",
       "    <tr>\n",
       "      <th>Label</th>\n",
       "      <th></th>\n",
       "      <th></th>\n",
       "      <th></th>\n",
       "      <th></th>\n",
       "      <th></th>\n",
       "      <th></th>\n",
       "      <th></th>\n",
       "      <th></th>\n",
       "      <th></th>\n",
       "      <th></th>\n",
       "      <th></th>\n",
       "    </tr>\n",
       "  </thead>\n",
       "  <tbody>\n",
       "    <tr>\n",
       "      <th>0</th>\n",
       "      <td>0.976983</td>\n",
       "      <td>6.423144e+05</td>\n",
       "      <td>15754.591619</td>\n",
       "      <td>44489.327886</td>\n",
       "      <td>3491.564261</td>\n",
       "      <td>30.141892</td>\n",
       "      <td>1.399998</td>\n",
       "      <td>2.881027</td>\n",
       "      <td>4604.354916</td>\n",
       "      <td>38.375802</td>\n",
       "      <td>122.886697</td>\n",
       "    </tr>\n",
       "    <tr>\n",
       "      <th>1</th>\n",
       "      <td>1.088033</td>\n",
       "      <td>6.470875e+06</td>\n",
       "      <td>114665.654704</td>\n",
       "      <td>110819.834216</td>\n",
       "      <td>12633.609429</td>\n",
       "      <td>29.232641</td>\n",
       "      <td>1.316087</td>\n",
       "      <td>2.460956</td>\n",
       "      <td>10034.302827</td>\n",
       "      <td>52.216994</td>\n",
       "      <td>126.457407</td>\n",
       "    </tr>\n",
       "    <tr>\n",
       "      <th>2</th>\n",
       "      <td>1.003032</td>\n",
       "      <td>2.508782e+06</td>\n",
       "      <td>53383.691943</td>\n",
       "      <td>130054.381755</td>\n",
       "      <td>12522.270375</td>\n",
       "      <td>30.801738</td>\n",
       "      <td>1.343034</td>\n",
       "      <td>2.713875</td>\n",
       "      <td>11276.673466</td>\n",
       "      <td>47.908593</td>\n",
       "      <td>138.463337</td>\n",
       "    </tr>\n",
       "    <tr>\n",
       "      <th>3</th>\n",
       "      <td>1.001307</td>\n",
       "      <td>1.411309e+06</td>\n",
       "      <td>38117.159345</td>\n",
       "      <td>120080.985696</td>\n",
       "      <td>8760.513055</td>\n",
       "      <td>33.663131</td>\n",
       "      <td>1.395382</td>\n",
       "      <td>3.011804</td>\n",
       "      <td>9734.105165</td>\n",
       "      <td>42.553193</td>\n",
       "      <td>113.018450</td>\n",
       "    </tr>\n",
       "    <tr>\n",
       "      <th>4</th>\n",
       "      <td>0.996199</td>\n",
       "      <td>8.546879e+05</td>\n",
       "      <td>22859.961600</td>\n",
       "      <td>65540.284126</td>\n",
       "      <td>4478.176401</td>\n",
       "      <td>37.805774</td>\n",
       "      <td>1.406586</td>\n",
       "      <td>2.789621</td>\n",
       "      <td>6209.464067</td>\n",
       "      <td>42.196883</td>\n",
       "      <td>122.795528</td>\n",
       "    </tr>\n",
       "  </tbody>\n",
       "</table>\n",
       "</div>"
      ],
      "text/plain": [
       "       Platform           TRU            DAU          Items         Trans  \\\n",
       "Label                                                                       \n",
       "0      0.976983  6.423144e+05   15754.591619   44489.327886   3491.564261   \n",
       "1      1.088033  6.470875e+06  114665.654704  110819.834216  12633.609429   \n",
       "2      1.003032  2.508782e+06   53383.691943  130054.381755  12522.270375   \n",
       "3      1.001307  1.411309e+06   38117.159345  120080.985696   8760.513055   \n",
       "4      0.996199  8.546879e+05   22859.961600   65540.284126   4478.176401   \n",
       "\n",
       "       Items Per Trans  Items per DAU  Conversion     Cash Flow  \\\n",
       "Label                                                             \n",
       "0            30.141892       1.399998    2.881027   4604.354916   \n",
       "1            29.232641       1.316087    2.460956  10034.302827   \n",
       "2            30.801738       1.343034    2.713875  11276.673466   \n",
       "3            33.663131       1.395382    3.011804   9734.105165   \n",
       "4            37.805774       1.406586    2.789621   6209.464067   \n",
       "\n",
       "       Return Customer  Time Spend Per Day(seconds)  \n",
       "Label                                                \n",
       "0            38.375802                   122.886697  \n",
       "1            52.216994                   126.457407  \n",
       "2            47.908593                   138.463337  \n",
       "3            42.553193                   113.018450  \n",
       "4            42.196883                   122.795528  "
      ]
     },
     "execution_count": 43,
     "metadata": {},
     "output_type": "execute_result"
    }
   ],
   "source": [
    "table = Normal_data.groupby(['Label']).mean()\n",
    "table"
   ]
  },
  {
   "cell_type": "markdown",
   "metadata": {},
   "source": [
    "## Task 5 Story Telling & Summary"
   ]
  },
  {
   "cell_type": "markdown",
   "metadata": {},
   "source": [
    "#### Findings:\n",
    "1) Some features' values are different from manual calculation. For example variables like 'Items Per Trans' and 'Items per DAU' are actually different from 'items'/'DAU' and 'items'/'Trans'. Most of the values from the two features are not quite divert from calculation, but some of the values are quite different between each other. I suggest we can ask the engineer who is responsible for the features and know more about the reason behind.\n",
    "\n",
    "2) Improve conversion in India. We can see the greatest customer base actually locate within India. It has the most total registered user and the most daily active user. However, the conversion rate are less than the other countries, only 2.46%. I would recommend put more effort in india user data, and see why the conversion is less than the other countries.\n",
    "\n",
    "3) Niche marketing in Egypt, Korea, Malaysia, Russia, Saudi Arabia, Thailand and United States. For customers in these countries, although they spend less time in the platform, their conversion rate is out perform than the other countries. And there are a lot of room for growing the customers there as the DAU and TRU are the lowest compared to the other countries. In the future we can put more effort in niche marketing at those countries and grow our customer base.\n",
    "\n",
    "4) Expand userbase& develop recommendation engine in Indonesia, Iraq, Turkey. For customers in these countries, they spend the most and stay longes in the platform. In the future, we can further explore the preferences of customers in these countries and personalize recommendations to further improve our revenue and expand customer base.\n",
    "\n",
    "#### Future work\n",
    "1) There are a lot to improve in the anomaly detection part. For example we can dive deeper into the features to see what else we missed. For example we can calculate the customer retention ratio from different platform, explore more conversion rated features to improve anomaly detection capability.\n",
    "\n",
    "2) We can use different cluster methods and different features to see if there are any other insigts we missed. For example density based clustering and hierachy clustering. Other than that we can also see is there any seasonality effect in this dataset, so that we can further niche marketing and develop different strategies for different countries"
   ]
  }
 ],
 "metadata": {
  "kernelspec": {
   "display_name": "Python 3",
   "language": "python",
   "name": "python3"
  },
  "language_info": {
   "codemirror_mode": {
    "name": "ipython",
    "version": 3
   },
   "file_extension": ".py",
   "mimetype": "text/x-python",
   "name": "python",
   "nbconvert_exporter": "python",
   "pygments_lexer": "ipython3",
   "version": "3.7.2"
  }
 },
 "nbformat": 4,
 "nbformat_minor": 2
}
